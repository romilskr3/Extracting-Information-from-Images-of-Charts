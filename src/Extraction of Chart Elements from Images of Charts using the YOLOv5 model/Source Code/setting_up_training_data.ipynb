{
  "nbformat": 4,
  "nbformat_minor": 0,
  "metadata": {
    "colab": {
      "name": "setting_up_training_data.ipynb",
      "provenance": []
    },
    "kernelspec": {
      "name": "python3",
      "display_name": "Python 3"
    },
    "language_info": {
      "name": "python"
    }
  },
  "cells": [
    {
      "cell_type": "code",
      "execution_count": null,
      "metadata": {
        "id": "9ZQCZSWDHrgW"
      },
      "outputs": [],
      "source": [
        "import pandas as pd\n",
        "import numpy as np\n",
        "import random\n",
        "import cv2\n",
        "import numpy as np\n",
        "import matplotlib.pyplot as plt\n",
        "import json\n",
        "from IPython.display import Image\n",
        "import shutil\n",
        "import copy\n",
        "from numpy import int32\n",
        "import os\n",
        "from numpy import float32"
      ]
    },
    {
      "cell_type": "code",
      "source": [
        "from google.colab import drive\n",
        "drive.mount('/content/drive')"
      ],
      "metadata": {
        "colab": {
          "base_uri": "https://localhost:8080/"
        },
        "id": "W95kRp2yH1qd",
        "outputId": "a79713d8-17e9-491d-fec3-e4109f29677a"
      },
      "execution_count": null,
      "outputs": [
        {
          "output_type": "stream",
          "name": "stdout",
          "text": [
            "Drive already mounted at /content/drive; to attempt to forcibly remount, call drive.mount(\"/content/drive\", force_remount=True).\n"
          ]
        }
      ]
    },
    {
      "cell_type": "code",
      "execution_count": null,
      "metadata": {
        "colab": {
          "base_uri": "https://localhost:8080/"
        },
        "id": "kInlXnhHHrgX",
        "outputId": "68675171-5d76-4df7-84de-891f8d04e82e"
      },
      "outputs": [
        {
          "output_type": "execute_result",
          "data": {
            "text/plain": [
              "157070"
            ]
          },
          "metadata": {},
          "execution_count": 7
        }
      ],
      "source": [
        "with open('/content/drive/MyDrive/MCM-Practicum/Data/Train/annotations.json') as json_file:\n",
        "    annotations_list_full = json.load(json_file)\n",
        "len(annotations_list_full)"
      ]
    },
    {
      "cell_type": "code",
      "execution_count": null,
      "metadata": {
        "colab": {
          "base_uri": "https://localhost:8080/"
        },
        "id": "0x9ysQsdbCTX",
        "outputId": "388512b2-d0fd-4c29-a5e3-7b168cbf016b"
      },
      "outputs": [
        {
          "output_type": "execute_result",
          "data": {
            "text/plain": [
              "46840"
            ]
          },
          "metadata": {},
          "execution_count": 8
        }
      ],
      "source": [
        "list_of_images=os.listdir('/content/drive/MyDrive/MCM-Practicum/Data/Train/png/dataset')\n",
        "#/content/drive/MyDrive/MCM Practicum/Data/Train/png\n",
        "#list_of_images.sort()\n",
        "len(list_of_images)"
      ]
    },
    {
      "cell_type": "code",
      "execution_count": null,
      "metadata": {
        "colab": {
          "base_uri": "https://localhost:8080/"
        },
        "id": "HlLwdukbHrgY",
        "outputId": "ea601999-008c-48a0-dae0-93b31df86c5e"
      },
      "outputs": [
        {
          "output_type": "execute_result",
          "data": {
            "text/plain": [
              "46840"
            ]
          },
          "metadata": {},
          "execution_count": 12
        }
      ],
      "source": [
        "annotations_list=[]\n",
        "for i in range (len(annotations_list_full)):\n",
        "  temp=(str(annotations_list_full[i]['image_index'])+'.png')\n",
        "  if temp in list_of_images:\n",
        "    annotations_list.append(annotations_list_full[i])\n",
        "len(annotations_list)"
      ]
    },
    {
      "cell_type": "code",
      "execution_count": null,
      "metadata": {
        "colab": {
          "base_uri": "https://localhost:8080/"
        },
        "id": "mjOLWa1IHrgZ",
        "outputId": "1c3d79f1-7131-472b-cb96-3533c21cf62f"
      },
      "outputs": [
        {
          "output_type": "stream",
          "name": "stdout",
          "text": [
            "Number of Dot Plots: 7779\n",
            "Number of Line Plots: 7705\n",
            "Number of Horizontal Bar Plots: 15701\n",
            "Number of Vertical Bar Plots: 15655\n"
          ]
        }
      ],
      "source": [
        "#Splitting main dataset based on chart type\n",
        "annotations_list_dot=[]\n",
        "annotations_list_hbar=[]\n",
        "annotations_list_line=[]\n",
        "annotations_list_vbar=[]\n",
        "i=0\n",
        "for i in range(len(annotations_list)):\n",
        "    test = annotations_list[i]\n",
        "    if test['type']=='dot_line':\n",
        "        annotations_list_dot.append(test)\n",
        "    elif test['type']=='hbar_categorical':\n",
        "        annotations_list_hbar.append(test)\n",
        "    elif test['type']=='line':\n",
        "        annotations_list_line.append(test)\n",
        "    elif test['type']=='vbar_categorical':\n",
        "        annotations_list_vbar.append(test)\n",
        "\n",
        "#check=len(annotations_list_dot)+len(annotations_list_hbar)+len(annotations_list_line)+len(annotations_list_vbar)\n",
        "#print(check)\n",
        "\n",
        "print(\"Number of Dot Plots:\",len(annotations_list_dot))\n",
        "print(\"Number of Line Plots:\",len(annotations_list_line))\n",
        "print(\"Number of Horizontal Bar Plots:\",len(annotations_list_hbar))\n",
        "print(\"Number of Vertical Bar Plots:\",len(annotations_list_vbar))"
      ]
    },
    {
      "cell_type": "code",
      "execution_count": null,
      "metadata": {
        "colab": {
          "base_uri": "https://localhost:8080/"
        },
        "id": "MGl6YYf6Hrga",
        "outputId": "b87c23b2-4ed8-4df9-9a55-5e1438701333"
      },
      "outputs": [
        {
          "output_type": "stream",
          "name": "stdout",
          "text": [
            "6258\n"
          ]
        }
      ],
      "source": [
        "\n",
        "#removing annotation entries with negative coordinate values\n",
        "subset=copy.copy(annotations_list)\n",
        "delete_list=[]\n",
        "for i in range(len(subset)):\n",
        "    for j in range(len(subset[i]['models'])):\n",
        "        for k in range(len(subset[i]['models'][j]['bboxes'])):\n",
        "            temp1=subset[i]['models'][j]['bboxes'][k]\n",
        "            try:\n",
        "                temp3=subset[i]['general_figure_info']['legend']['bbox']\n",
        "            except KeyError:\n",
        "                temp3=0\n",
        "            if (((temp1['x'])<0) or ((temp1['y'])<0) or ((temp1['w'])<0) or ((temp1['h'])<0)):\n",
        "                if (i) not in delete_list:\n",
        "                    delete_list.append(i)\n",
        "            if (temp3!=0):\n",
        "                if (((temp3['x'])<0) or ((temp3['y'])<0) or ((temp3['w'])<0) or ((temp3['h'])<0)):\n",
        "                    if (i) not in delete_list:\n",
        "                        delete_list.append(i)\n",
        "print(len(delete_list))\n"
      ]
    },
    {
      "cell_type": "code",
      "execution_count": null,
      "metadata": {
        "colab": {
          "base_uri": "https://localhost:8080/"
        },
        "id": "IWyonfiqHrgb",
        "outputId": "b2dd73fb-4b20-4d76-90e0-c6b4890d0ee5"
      },
      "outputs": [
        {
          "output_type": "stream",
          "name": "stdout",
          "text": [
            "Negative coordinate entry avoided\n",
            "Negative coordinate entry avoided\n",
            "Negative coordinate entry avoided\n",
            "Negative coordinate entry avoided\n",
            "Duplicate avoided\n",
            "Negative coordinate entry avoided\n",
            "Duplicate avoided\n",
            "Negative coordinate entry avoided\n",
            "Negative coordinate entry avoided\n",
            "Negative coordinate entry avoided\n",
            "Duplicate avoided\n",
            "Negative coordinate entry avoided\n",
            "Duplicate avoided\n",
            "Duplicate avoided\n",
            "Negative coordinate entry avoided\n",
            "Duplicate avoided\n",
            "Duplicate avoided\n",
            "Duplicate avoided\n",
            "Duplicate avoided\n",
            "Negative coordinate entry avoided\n",
            "Duplicate avoided\n",
            "Duplicate avoided\n",
            "Duplicate avoided\n",
            "Negative coordinate entry avoided\n",
            "Duplicate avoided\n",
            "Duplicate avoided\n",
            "Negative coordinate entry avoided\n",
            "Negative coordinate entry avoided\n",
            "Negative coordinate entry avoided\n",
            "Duplicate avoided\n",
            "Negative coordinate entry avoided\n",
            "Duplicate avoided\n",
            "Duplicate avoided\n",
            "Duplicate avoided\n",
            "Duplicate avoided\n",
            "Negative coordinate entry avoided\n",
            "Duplicate avoided\n",
            "Negative coordinate entry avoided\n",
            "Duplicate avoided\n",
            "Negative coordinate entry avoided\n",
            "Negative coordinate entry avoided\n",
            "Negative coordinate entry avoided\n",
            "duplicate avoided\n",
            "duplicate avoided\n",
            "Negative coordinate entry avoided\n",
            "duplicate avoided\n",
            "Negative coordinate entry avoided\n",
            "duplicate avoided\n",
            "Negative coordinate entry avoided\n",
            "Negative coordinate entry avoided\n",
            "Negative coordinate entry avoided\n",
            "duplicate avoided\n",
            "Negative coordinate entry avoided\n",
            "duplicate avoided\n",
            "Negative coordinate entry avoided\n",
            "duplicate avoided\n",
            "duplicate avoided\n",
            "duplicate avoided\n",
            "duplicate avoided\n",
            "Negative coordinate entry avoided\n",
            "duplicate avoided\n",
            "duplicate avoided\n",
            "duplicate avoided\n",
            "Negative coordinate entry avoided\n",
            "duplicate avoided\n",
            "Negative coordinate entry avoided\n",
            "duplicate avoided\n",
            "Negative coordinate entry avoided\n",
            "duplicate avoided\n",
            "duplicate avoided\n",
            "Negative coordinate entry avoided\n",
            "duplicate avoided\n",
            "duplicate avoided\n",
            "Negative coordinate entry avoided\n",
            "Negative coordinate entry avoided\n",
            "duplicate avoided\n",
            "duplicate avoided\n",
            "duplicate avoided\n",
            "Negative coordinate entry avoided\n",
            "duplicate avoided\n",
            "duplicate avoided\n",
            "Negative coordinate entry avoided\n",
            "duplicate avoided\n",
            "duplicate avoided\n",
            "duplicate avoided\n",
            "duplicate avoided\n",
            "Negative coordinate entry avoided\n",
            "Negative coordinate entry avoided\n",
            "Negative coordinate entry avoided\n",
            "duplicate avoided\n",
            "Negative coordinate entry avoided\n",
            "Negative coordinate entry avoided\n",
            "Negative coordinate entry avoided\n",
            "Negative coordinate entry avoided\n",
            "Negative coordinate entry avoided\n",
            "Negative coordinate entry avoided\n",
            "Negative coordinate entry avoided\n",
            "Negative coordinate entry avoided\n",
            "duplicate avoided\n",
            "Negative coordinate entry avoided\n",
            "Negative coordinate entry avoided\n",
            "Negative coordinate entry avoided\n",
            "duplicate avoided\n",
            "Negative coordinate entry avoided\n",
            "Negative coordinate entry avoided\n",
            "duplicate avoided\n",
            "duplicate avoided\n",
            "Negative coordinate entry avoided\n",
            "duplicate avoided\n",
            "Negative coordinate entry avoided\n",
            "duplicate avoided\n",
            "duplicate avoided\n",
            "Negative coordinate entry avoided\n",
            "Negative coordinate entry avoided\n",
            "Negative coordinate entry avoided\n",
            "Negative coordinate entry avoided\n",
            "Negative coordinate entry avoided\n",
            "duplicate avoided\n",
            "Negative coordinate entry avoided\n",
            "Negative coordinate entry avoided\n",
            "Negative coordinate entry avoided\n",
            "Negative coordinate entry avoided\n",
            "Negative coordinate entry avoided\n",
            "duplicate avoided\n",
            "Negative coordinate entry avoided\n",
            "duplicate avoided\n",
            "duplicate avoided\n",
            "Negative coordinate entry avoided\n",
            "duplicate avoided\n",
            "duplicate avoided\n",
            "duplicate avoided\n",
            "duplicate avoided\n",
            "duplicate avoided\n",
            "Negative coordinate entry avoided\n",
            "Negative coordinate entry avoided\n",
            "Negative coordinate entry avoided\n",
            "Negative coordinate entry avoided\n",
            "duplicate avoided\n",
            "duplicate avoided\n",
            "Negative coordinate entry avoided\n",
            "duplicate avoided\n",
            "duplicate avoided\n",
            "duplicate avoided\n",
            "duplicate avoided\n",
            "Negative coordinate entry avoided\n",
            "duplicate avoided\n"
          ]
        },
        {
          "output_type": "execute_result",
          "data": {
            "text/plain": [
              "2534"
            ]
          },
          "metadata": {},
          "execution_count": 16
        }
      ],
      "source": [
        "#Selecting images from each class for balanced dataset\n",
        "subset_annotations_list=[]\n",
        "for i in range (0,670):\n",
        "    temp=copy.copy(annotations_list_dot[random.randint(0,len(annotations_list_dot))])\n",
        "    if temp in subset_annotations_list:\n",
        "        print('Duplicate avoided')\n",
        "    elif i in delete_list:\n",
        "        print ('Negative coordinate entry avoided')\n",
        "    else:\n",
        "        subset_annotations_list.append(temp)\n",
        "    \n",
        "for i in range (0,670):\n",
        "    temp=copy.copy(annotations_list_line[random.randint(0,len(annotations_list_line))])\n",
        "    if temp in subset_annotations_list:\n",
        "        print('duplicate avoided')\n",
        "    elif i in delete_list:\n",
        "        print ('Negative coordinate entry avoided')\n",
        "    else:\n",
        "        subset_annotations_list.append(temp)\n",
        "\n",
        "for i in range (0,670):\n",
        "    temp=copy.copy(annotations_list_hbar[random.randint(0,len(annotations_list_hbar))])\n",
        "    if temp in subset_annotations_list:\n",
        "        print('duplicate avoided')\n",
        "    elif i in delete_list:\n",
        "        print ('Negative coordinate entry avoided')\n",
        "    else:\n",
        "        subset_annotations_list.append(temp)\n",
        "\n",
        "for i in range (0,670):\n",
        "    temp=copy.copy(annotations_list_vbar[random.randint(0,len(annotations_list_vbar))])\n",
        "    if temp in subset_annotations_list:\n",
        "        print('duplicate avoided')\n",
        "    elif i in delete_list:\n",
        "        print ('Negative coordinate entry avoided')\n",
        "    else:\n",
        "        subset_annotations_list.append(temp)\n",
        "\n",
        "len(subset_annotations_list)"
      ]
    },
    {
      "cell_type": "code",
      "execution_count": null,
      "metadata": {
        "colab": {
          "base_uri": "https://localhost:8080/"
        },
        "outputId": "b2dd73fb-4b20-4d76-90e0-c6b4890d0ee5",
        "id": "lMVgmYdyAhNf"
      },
      "outputs": [
        {
          "output_type": "stream",
          "name": "stdout",
          "text": [
            "Negative coordinate entry avoided\n",
            "Negative coordinate entry avoided\n",
            "Negative coordinate entry avoided\n",
            "Negative coordinate entry avoided\n",
            "Duplicate avoided\n",
            "Negative coordinate entry avoided\n",
            "Duplicate avoided\n",
            "Negative coordinate entry avoided\n",
            "Negative coordinate entry avoided\n",
            "Negative coordinate entry avoided\n",
            "Duplicate avoided\n",
            "Negative coordinate entry avoided\n",
            "Duplicate avoided\n",
            "Duplicate avoided\n",
            "Negative coordinate entry avoided\n",
            "Duplicate avoided\n",
            "Duplicate avoided\n",
            "Duplicate avoided\n",
            "Duplicate avoided\n",
            "Negative coordinate entry avoided\n",
            "Duplicate avoided\n",
            "Duplicate avoided\n",
            "Duplicate avoided\n",
            "Negative coordinate entry avoided\n",
            "Duplicate avoided\n",
            "Duplicate avoided\n",
            "Negative coordinate entry avoided\n",
            "Negative coordinate entry avoided\n",
            "Negative coordinate entry avoided\n",
            "Duplicate avoided\n",
            "Negative coordinate entry avoided\n",
            "Duplicate avoided\n",
            "Duplicate avoided\n",
            "Duplicate avoided\n",
            "Duplicate avoided\n",
            "Negative coordinate entry avoided\n",
            "Duplicate avoided\n",
            "Negative coordinate entry avoided\n",
            "Duplicate avoided\n",
            "Negative coordinate entry avoided\n",
            "Negative coordinate entry avoided\n",
            "Negative coordinate entry avoided\n",
            "duplicate avoided\n",
            "duplicate avoided\n",
            "Negative coordinate entry avoided\n",
            "duplicate avoided\n",
            "Negative coordinate entry avoided\n",
            "duplicate avoided\n",
            "Negative coordinate entry avoided\n",
            "Negative coordinate entry avoided\n",
            "Negative coordinate entry avoided\n",
            "duplicate avoided\n",
            "Negative coordinate entry avoided\n",
            "duplicate avoided\n",
            "Negative coordinate entry avoided\n",
            "duplicate avoided\n",
            "duplicate avoided\n",
            "duplicate avoided\n",
            "duplicate avoided\n",
            "Negative coordinate entry avoided\n",
            "duplicate avoided\n",
            "duplicate avoided\n",
            "duplicate avoided\n",
            "Negative coordinate entry avoided\n",
            "duplicate avoided\n",
            "Negative coordinate entry avoided\n",
            "duplicate avoided\n",
            "Negative coordinate entry avoided\n",
            "duplicate avoided\n",
            "duplicate avoided\n",
            "Negative coordinate entry avoided\n",
            "duplicate avoided\n",
            "duplicate avoided\n",
            "Negative coordinate entry avoided\n",
            "Negative coordinate entry avoided\n",
            "duplicate avoided\n",
            "duplicate avoided\n",
            "duplicate avoided\n",
            "Negative coordinate entry avoided\n",
            "duplicate avoided\n",
            "duplicate avoided\n",
            "Negative coordinate entry avoided\n",
            "duplicate avoided\n",
            "duplicate avoided\n",
            "duplicate avoided\n",
            "duplicate avoided\n",
            "Negative coordinate entry avoided\n",
            "Negative coordinate entry avoided\n",
            "Negative coordinate entry avoided\n",
            "duplicate avoided\n",
            "Negative coordinate entry avoided\n",
            "Negative coordinate entry avoided\n",
            "Negative coordinate entry avoided\n",
            "Negative coordinate entry avoided\n",
            "Negative coordinate entry avoided\n",
            "Negative coordinate entry avoided\n",
            "Negative coordinate entry avoided\n",
            "Negative coordinate entry avoided\n",
            "duplicate avoided\n",
            "Negative coordinate entry avoided\n",
            "Negative coordinate entry avoided\n",
            "Negative coordinate entry avoided\n",
            "duplicate avoided\n",
            "Negative coordinate entry avoided\n",
            "Negative coordinate entry avoided\n",
            "duplicate avoided\n",
            "duplicate avoided\n",
            "Negative coordinate entry avoided\n",
            "duplicate avoided\n",
            "Negative coordinate entry avoided\n",
            "duplicate avoided\n",
            "duplicate avoided\n",
            "Negative coordinate entry avoided\n",
            "Negative coordinate entry avoided\n",
            "Negative coordinate entry avoided\n",
            "Negative coordinate entry avoided\n",
            "Negative coordinate entry avoided\n",
            "duplicate avoided\n",
            "Negative coordinate entry avoided\n",
            "Negative coordinate entry avoided\n",
            "Negative coordinate entry avoided\n",
            "Negative coordinate entry avoided\n",
            "Negative coordinate entry avoided\n",
            "duplicate avoided\n",
            "Negative coordinate entry avoided\n",
            "duplicate avoided\n",
            "duplicate avoided\n",
            "Negative coordinate entry avoided\n",
            "duplicate avoided\n",
            "duplicate avoided\n",
            "duplicate avoided\n",
            "duplicate avoided\n",
            "duplicate avoided\n",
            "Negative coordinate entry avoided\n",
            "Negative coordinate entry avoided\n",
            "Negative coordinate entry avoided\n",
            "Negative coordinate entry avoided\n",
            "duplicate avoided\n",
            "duplicate avoided\n",
            "Negative coordinate entry avoided\n",
            "duplicate avoided\n",
            "duplicate avoided\n",
            "duplicate avoided\n",
            "duplicate avoided\n",
            "Negative coordinate entry avoided\n",
            "duplicate avoided\n"
          ]
        },
        {
          "output_type": "execute_result",
          "data": {
            "text/plain": [
              "2534"
            ]
          },
          "metadata": {},
          "execution_count": 16
        }
      ],
      "source": [
        "#Selecting images from each class for an unbalanced dataset\n",
        "subset_annotations_list=[]\n",
        "for i in range (0,430):\n",
        "    temp=copy.copy(annotations_list_dot[random.randint(0,len(annotations_list_dot))])\n",
        "    if temp in subset_annotations_list:\n",
        "        print('Duplicate avoided')\n",
        "    elif i in delete_list:\n",
        "        print ('Negative coordinate entry avoided')\n",
        "    else:\n",
        "        subset_annotations_list.append(temp)\n",
        "    \n",
        "for i in range (0,860):\n",
        "    temp=copy.copy(annotations_list_line[random.randint(0,len(annotations_list_line))])\n",
        "    if temp in subset_annotations_list:\n",
        "        print('duplicate avoided')\n",
        "    elif i in delete_list:\n",
        "        print ('Negative coordinate entry avoided')\n",
        "    else:\n",
        "        subset_annotations_list.append(temp)\n",
        "\n",
        "for i in range (0,430):\n",
        "    temp=copy.copy(annotations_list_hbar[random.randint(0,len(annotations_list_hbar))])\n",
        "    if temp in subset_annotations_list:\n",
        "        print('duplicate avoided')\n",
        "    elif i in delete_list:\n",
        "        print ('Negative coordinate entry avoided')\n",
        "    else:\n",
        "        subset_annotations_list.append(temp)\n",
        "\n",
        "for i in range (0,860):\n",
        "    temp=copy.copy(annotations_list_vbar[random.randint(0,len(annotations_list_vbar))])\n",
        "    if temp in subset_annotations_list:\n",
        "        print('duplicate avoided')\n",
        "    elif i in delete_list:\n",
        "        print ('Negative coordinate entry avoided')\n",
        "    else:\n",
        "        subset_annotations_list.append(temp)\n",
        "\n",
        "len(subset_annotations_list)"
      ]
    },
    {
      "cell_type": "code",
      "execution_count": null,
      "metadata": {
        "id": "hBuhO9zVHrgc"
      },
      "outputs": [],
      "source": [
        "def convert_labels (path_img, test_bbox):\n",
        "    test_bbox['w']=test_bbox['x']+test_bbox['w']\n",
        "    test_bbox['h']=test_bbox['y']+test_bbox['h']\n",
        "    #print(test_bbox)\n",
        "    x1=test_bbox['x']\n",
        "    y1=test_bbox['y']\n",
        "    x2=test_bbox['w']\n",
        "    y2=test_bbox['h']\n",
        "    def sorting(l1, l2):\n",
        "        if 11> 12:\n",
        "            lmax, lmin = l1, l2\n",
        "            return lmax, lmin\n",
        "        else:\n",
        "            lmax, lmin = l2, l1\n",
        "            return lmax, lmin\n",
        "    img=cv2.imread(path_img)\n",
        "    size=img.shape\n",
        "    #print(size)\n",
        "    xmax, xmin = sorting(x1, x2)\n",
        "    ymax, ymin = sorting (y1, y2)\n",
        "    dw = 1./size[1]\n",
        "    dh = 1./size[0]\n",
        "    x = (xmin + xmax)/2.0\n",
        "    y = (ymin + ymax)/2.0\n",
        "    x = (xmin + xmax)/2.0\n",
        "    y = (ymin + ymax)/2.0\n",
        "    w = xmax-xmin\n",
        "    h = ymax-ymin\n",
        "    x = x*dw\n",
        "    w = w*dw\n",
        "    y = y*dh\n",
        "    h = h*dh\n",
        "    return (x,y,w,h)"
      ]
    },
    {
      "cell_type": "code",
      "execution_count": null,
      "metadata": {
        "id": "rTe94x19Hrgc"
      },
      "outputs": [],
      "source": [
        "#Chart-Classification\n",
        "#0=dot_plot\n",
        "#1=hbar\n",
        "#2=line\n",
        "#3=vbar\n",
        "#4=legend\n",
        "\n",
        "for f in os.listdir('/content/drive/MyDrive/chart_type_extraction1/datasets1/images/train/'):\n",
        "    os.remove(os.path.join('/content/drive/MyDrive/chart_type_extraction1/datasets1/images/train/', f))\n",
        "for f in os.listdir('/content/drive/MyDrive/chart_type_extraction1/datasets1/labels/train/'):\n",
        "    os.remove(os.path.join('/content/drive/MyDrive/chart_type_extraction1/datasets1/labels/train/', f))\n",
        "\n",
        "for k in range(len(subset_annotations_list)):\n",
        "    l=0\n",
        "    m=0\n",
        "    #print(subset_annotations_list[k]['image_index'])\n",
        "    path_img='/content/drive/MyDrive/MCM-Practicum/Data/Train/png/dataset/'+str(subset_annotations_list[k]['image_index'])+'.png'\n",
        "    #print((path_img))\n",
        "    #Inserting bbox information of chart elements\n",
        "    for i in range(len(subset_annotations_list[k]['models'])):\n",
        "        l=l+len(subset_annotations_list[k]['models'][i]['bboxes'])\n",
        "        annotations_array = np.zeros((l,5), dtype=float)\n",
        "    for i in range(len(subset_annotations_list[k]['models'])):\n",
        "        for j in range(len(subset_annotations_list[k]['models'][i]['bboxes'])):\n",
        "            if (subset_annotations_list[k]['type'])=='dot_line':\n",
        "                annotations_array[m][0]=0\n",
        "            elif (subset_annotations_list[k]['type'])=='hbar_categorical':\n",
        "                annotations_array[m][0]=1\n",
        "            elif (subset_annotations_list[k]['type'])=='line':\n",
        "                annotations_array[m][0]=2\n",
        "            elif (subset_annotations_list[k]['type'])=='vbar_categorical':\n",
        "                annotations_array[m][0]=3\n",
        "            test_bbox=copy.copy(subset_annotations_list[k]['models'][i]['bboxes'][j])\n",
        "            test_bbox_yolo=convert_labels(path_img,test_bbox)\n",
        "            annotations_array[m][1]=test_bbox_yolo[0]\n",
        "            annotations_array[m][2]=test_bbox_yolo[1]\n",
        "            annotations_array[m][3]=test_bbox_yolo[2]\n",
        "            annotations_array[m][4]=test_bbox_yolo[3]\n",
        "            m=m+1\n",
        "    \n",
        "    legend_bbox_list=[]\n",
        "    #inserting legend bbox\n",
        "    try:\n",
        "        legend_bbox=copy.copy(subset_annotations_list[k]['general_figure_info']['legend']['bbox'])\n",
        "    except KeyError:\n",
        "        legend_bbox=0\n",
        "    if (legend_bbox!=0):\n",
        "        legend_bbox=convert_labels(path_img,legend_bbox)\n",
        "        legend_bbox_list.append(4)\n",
        "        for i in range(len(legend_bbox)):\n",
        "            legend_bbox_list.append(legend_bbox[i])\n",
        "        annotations_array=np.r_[annotations_array,[legend_bbox_list]]\n",
        "    \n",
        "    name=('/content/drive/MyDrive/chart_type_extraction1/datasets1/labels/train/'+str(subset_annotations_list[k]['image_index'])+'.txt')\n",
        "    np.savetxt(name, annotations_array, delimiter=\" \", fmt='%1.9f')\n",
        "    source='/content/drive/MyDrive/MCM-Practicum/Data/Train/png/dataset/'+str(subset_annotations_list[k]['image_index'])+'.png'\n",
        "    dest=('/content/drive/MyDrive/chart_type_extraction1/datasets1/images/train/'+str(subset_annotations_list[k]['image_index'])+'.png')\n",
        "    shutil.copy2(source,dest)"
      ]
    },
    {
      "cell_type": "code",
      "source": [
        "l=os.listdir(\"/content/drive/MyDrive/chart_type_extraction1/datasets1/images/train/\")\n",
        "#/content/drive/MyDrive/MCM Practicum/Data/Train/png\n",
        "#list_of_images2.sort()\n",
        "len(l)"
      ],
      "metadata": {
        "colab": {
          "base_uri": "https://localhost:8080/"
        },
        "id": "IQjZD_BNT2mp",
        "outputId": "ced37c74-5a6a-4e62-c46a-5695beefe28c"
      },
      "execution_count": null,
      "outputs": [
        {
          "output_type": "execute_result",
          "data": {
            "text/plain": [
              "2534"
            ]
          },
          "metadata": {},
          "execution_count": 19
        }
      ]
    }
  ]
}