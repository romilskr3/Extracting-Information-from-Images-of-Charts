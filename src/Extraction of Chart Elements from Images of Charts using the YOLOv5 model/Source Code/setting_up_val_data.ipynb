{
  "nbformat": 4,
  "nbformat_minor": 0,
  "metadata": {
    "colab": {
      "name": "setting_up_val_data.ipynb",
      "provenance": []
    },
    "kernelspec": {
      "name": "python3",
      "display_name": "Python 3"
    },
    "language_info": {
      "name": "python"
    }
  },
  "cells": [
    {
      "cell_type": "code",
      "execution_count": null,
      "metadata": {
        "id": "9ZQCZSWDHrgW"
      },
      "outputs": [],
      "source": [
        "import pandas as pd\n",
        "import numpy as np\n",
        "import random\n",
        "import cv2\n",
        "import numpy as np\n",
        "import matplotlib.pyplot as plt\n",
        "import json\n",
        "from IPython.display import Image\n",
        "import shutil\n",
        "import copy\n",
        "from numpy import int32\n",
        "import os\n",
        "from numpy import float32"
      ]
    },
    {
      "cell_type": "code",
      "source": [
        "from google.colab import drive\n",
        "drive.mount('/content/drive')"
      ],
      "metadata": {
        "colab": {
          "base_uri": "https://localhost:8080/"
        },
        "id": "W95kRp2yH1qd",
        "outputId": "a79713d8-17e9-491d-fec3-e4109f29677a"
      },
      "execution_count": null,
      "outputs": [
        {
          "output_type": "stream",
          "name": "stdout",
          "text": [
            "Drive already mounted at /content/drive; to attempt to forcibly remount, call drive.mount(\"/content/drive\", force_remount=True).\n"
          ]
        }
      ]
    },
    {
      "cell_type": "code",
      "source": [
        "with open('/content/drive/MyDrive/MCM-Practicum/Data/Val/annotations.json') as val_json_file:\n",
        "    val_annotations_list_full=json.load(val_json_file)\n",
        "len(val_annotations_list_full)"
      ],
      "metadata": {
        "colab": {
          "base_uri": "https://localhost:8080/"
        },
        "id": "wFx7PUjtTVtO",
        "outputId": "f85c93ce-c905-4d71-ad71-9986d415db1d"
      },
      "execution_count": null,
      "outputs": [
        {
          "output_type": "execute_result",
          "data": {
            "text/plain": [
              "33650"
            ]
          },
          "metadata": {},
          "execution_count": 20
        }
      ]
    },
    {
      "cell_type": "code",
      "source": [
        "list_val_images=os.listdir('/content/drive/MyDrive/MCM-Practicum/Data/Val/png/')\n",
        "val_annotations_list=[]\n",
        "for i in range (len(val_annotations_list_full)):\n",
        "  temp=(str(val_annotations_list_full[i]['image_index'])+'.png')\n",
        "  if temp in list_val_images:\n",
        "    val_annotations_list.append(val_annotations_list_full[i])\n",
        "len(val_annotations_list)"
      ],
      "metadata": {
        "colab": {
          "base_uri": "https://localhost:8080/"
        },
        "id": "q7H_goHfTYb5",
        "outputId": "2640a6fb-0166-45da-b2f3-59b3725fb788"
      },
      "execution_count": null,
      "outputs": [
        {
          "output_type": "execute_result",
          "data": {
            "text/plain": [
              "33650"
            ]
          },
          "metadata": {},
          "execution_count": 22
        }
      ]
    },
    {
      "cell_type": "code",
      "source": [
        "#Splitting main dataset based on chart type\n",
        "val_annotations_list_dot=[]\n",
        "val_annotations_list_hbar=[]\n",
        "val_annotations_list_line=[]\n",
        "val_annotations_list_vbar=[]\n",
        "i=0\n",
        "for i in range(len(val_annotations_list)):\n",
        "    test = val_annotations_list[i]\n",
        "    if test['type']=='dot_line':\n",
        "        val_annotations_list_dot.append(test)\n",
        "    elif test['type']=='hbar_categorical':\n",
        "        val_annotations_list_hbar.append(test)\n",
        "    elif test['type']=='line':\n",
        "        val_annotations_list_line.append(test)\n",
        "    elif test['type']=='vbar_categorical':\n",
        "        val_annotations_list_vbar.append(test)\n",
        "\n",
        "#check=len(annotations_list_dot)+len(annotations_list_hbar)+len(annotations_list_line)+len(annotations_list_vbar)\n",
        "#print(check)\n",
        "\n",
        "print(\"Number of Dot Plots:\",len(val_annotations_list_dot))\n",
        "print(\"Number of Line Plots:\",len(val_annotations_list_line))\n",
        "print(\"Number of Horizontal Bar Plots:\",len(val_annotations_list_hbar))\n",
        "print(\"Number of Vertical Bar Plots:\",len(val_annotations_list_vbar))"
      ],
      "metadata": {
        "colab": {
          "base_uri": "https://localhost:8080/"
        },
        "id": "0Jug7kj9Tb8E",
        "outputId": "ff6da9a3-cef6-4866-95c3-9a5bee76107d"
      },
      "execution_count": null,
      "outputs": [
        {
          "output_type": "stream",
          "name": "stdout",
          "text": [
            "Number of Dot Plots: 5571\n",
            "Number of Line Plots: 5547\n",
            "Number of Horizontal Bar Plots: 11292\n",
            "Number of Vertical Bar Plots: 11240\n"
          ]
        }
      ]
    },
    {
      "cell_type": "code",
      "source": [
        "#removing annotation entries with negative coordinate values\n",
        "val_subset=copy.copy(val_annotations_list)\n",
        "val_delete_list=[]\n",
        "for i in range(len(val_subset)):\n",
        "    temp1=val_subset[i]['general_figure_info']['title']['bbox']\n",
        "    temp4=val_subset[i]['general_figure_info']['x_axis']['label']['bbox']\n",
        "    temp5=val_subset[i]['general_figure_info']['y_axis']['label']['bbox']\n",
        "    if (((temp1['x'])<0) or ((temp1['y'])<0) or ((temp1['w'])<0) or ((temp1['h'])<0)) or (((temp4['x'])<0) or ((temp4['y'])<0) or ((temp4['w'])<0) or ((temp4['h'])<0)) or (((temp5['x'])<0) or ((temp5['y'])<0) or ((temp5['w'])<0) or ((temp5['h'])<0)):\n",
        "        if (i) not in val_delete_list:\n",
        "            val_delete_list.append(i)\n",
        "    try:\n",
        "        temp2=val_subset[i]['general_figure_info']['legend']['bbox']\n",
        "    except KeyError:\n",
        "        temp2=0\n",
        "    if (temp2!=0):\n",
        "        for k in range(len(val_subset[i]['general_figure_info']['legend']['items'])):\n",
        "            temp3=val_subset[i]['general_figure_info']['legend']['items'][k]['label']['bbox']\n",
        "            if (((temp2['x'])<0) or ((temp2['y'])<0) or ((temp2['w'])<0) or ((temp2['h'])<0)) or (((temp3['x'])<0) or ((temp3['y'])<0) or ((temp3['w'])<0) or ((temp3['h'])<0)):\n",
        "                if (i) not in val_delete_list:\n",
        "                    val_delete_list.append(i)\n",
        "print(len(val_delete_list))"
      ],
      "metadata": {
        "colab": {
          "base_uri": "https://localhost:8080/"
        },
        "id": "rcPVJYmwTcm5",
        "outputId": "8b58667a-c6da-4267-ba42-2f08699201e9"
      },
      "execution_count": null,
      "outputs": [
        {
          "output_type": "stream",
          "name": "stdout",
          "text": [
            "3386\n"
          ]
        }
      ]
    },
    {
      "cell_type": "code",
      "source": [
        "#Selecting images from each class for a balanced dataset\n",
        "val_subset_annotations_list=[]\n",
        "\n",
        "for i in range (0,100):\n",
        "    temp=val_annotations_list_dot[random.randint(0,len(val_annotations_list_dot))]\n",
        "    if temp in val_subset_annotations_list:\n",
        "        print('Duplicate avoided')\n",
        "    elif i in val_delete_list:\n",
        "        print ('Negative coordinate entry avoided')\n",
        "    else:\n",
        "        val_subset_annotations_list.append(temp)\n",
        "\n",
        "for i in range (0,100):\n",
        "    temp=val_annotations_list_line[random.randint(0,len(val_annotations_list_line))]\n",
        "    if temp in val_subset_annotations_list:\n",
        "        print('duplicate avoided')\n",
        "    elif i in val_delete_list:\n",
        "        print ('Negative coordinate entry avoided')\n",
        "    else:\n",
        "        val_subset_annotations_list.append(temp)\n",
        "\n",
        "for i in range (0,100):\n",
        "    temp=val_annotations_list_hbar[random.randint(0,len(val_annotations_list_hbar))]\n",
        "    if temp in val_subset_annotations_list:\n",
        "        print('duplicate avoided')\n",
        "    elif i in val_delete_list:\n",
        "        print ('Negative coordinate entry avoided')\n",
        "    else:\n",
        "        val_subset_annotations_list.append(temp)\n",
        "\n",
        "for i in range (0,100):\n",
        "    temp=copy.copy(val_annotations_list_vbar[random.randint(0,len(val_annotations_list_vbar))])\n",
        "    if temp in val_subset_annotations_list:\n",
        "        print('duplicate avoided')\n",
        "    elif i in val_delete_list:\n",
        "        print ('Negative coordinate entry avoided')\n",
        "    else:\n",
        "        val_subset_annotations_list.append(temp)\n",
        "\n",
        "len(val_subset_annotations_list)"
      ],
      "metadata": {
        "colab": {
          "base_uri": "https://localhost:8080/"
        },
        "id": "KtH8R4kkTe_m",
        "outputId": "861b02ff-eec1-4996-fec9-510ed87dd1cc"
      },
      "execution_count": null,
      "outputs": [
        {
          "output_type": "stream",
          "name": "stdout",
          "text": [
            "Negative coordinate entry avoided\n",
            "Negative coordinate entry avoided\n",
            "Negative coordinate entry avoided\n",
            "Negative coordinate entry avoided\n",
            "Negative coordinate entry avoided\n",
            "Negative coordinate entry avoided\n",
            "Negative coordinate entry avoided\n",
            "Negative coordinate entry avoided\n",
            "Negative coordinate entry avoided\n",
            "Negative coordinate entry avoided\n",
            "Negative coordinate entry avoided\n",
            "Negative coordinate entry avoided\n"
          ]
        },
        {
          "output_type": "execute_result",
          "data": {
            "text/plain": [
              "388"
            ]
          },
          "metadata": {},
          "execution_count": 25
        }
      ]
    },
    {
      "cell_type": "code",
      "source": [
        "#Selecting images from each class for an unbalanced dataset\n",
        "val_subset_annotations_list=[]\n",
        "\n",
        "for i in range (0,100):\n",
        "    temp=val_annotations_list_dot[random.randint(0,len(val_annotations_list_dot))]\n",
        "    if temp in val_subset_annotations_list:\n",
        "        print('Duplicate avoided')\n",
        "    elif i in val_delete_list:\n",
        "        print ('Negative coordinate entry avoided')\n",
        "    else:\n",
        "        val_subset_annotations_list.append(temp)\n",
        "\n",
        "for i in range (0,100):\n",
        "    temp=val_annotations_list_line[random.randint(0,len(val_annotations_list_line))]\n",
        "    if temp in val_subset_annotations_list:\n",
        "        print('duplicate avoided')\n",
        "    elif i in val_delete_list:\n",
        "        print ('Negative coordinate entry avoided')\n",
        "    else:\n",
        "        val_subset_annotations_list.append(temp)\n",
        "\n",
        "for i in range (0,100):\n",
        "    temp=val_annotations_list_hbar[random.randint(0,len(val_annotations_list_hbar))]\n",
        "    if temp in val_subset_annotations_list:\n",
        "        print('duplicate avoided')\n",
        "    elif i in val_delete_list:\n",
        "        print ('Negative coordinate entry avoided')\n",
        "    else:\n",
        "        val_subset_annotations_list.append(temp)\n",
        "\n",
        "for i in range (0,100):\n",
        "    temp=copy.copy(val_annotations_list_vbar[random.randint(0,len(val_annotations_list_vbar))])\n",
        "    if temp in val_subset_annotations_list:\n",
        "        print('duplicate avoided')\n",
        "    elif i in val_delete_list:\n",
        "        print ('Negative coordinate entry avoided')\n",
        "    else:\n",
        "        val_subset_annotations_list.append(temp)\n",
        "\n",
        "len(val_subset_annotations_list)"
      ],
      "metadata": {
        "colab": {
          "base_uri": "https://localhost:8080/"
        },
        "outputId": "861b02ff-eec1-4996-fec9-510ed87dd1cc",
        "id": "Xa4Zut5SBgJD"
      },
      "execution_count": null,
      "outputs": [
        {
          "output_type": "stream",
          "name": "stdout",
          "text": [
            "Negative coordinate entry avoided\n",
            "Negative coordinate entry avoided\n",
            "Negative coordinate entry avoided\n",
            "Negative coordinate entry avoided\n",
            "Negative coordinate entry avoided\n",
            "Negative coordinate entry avoided\n",
            "Negative coordinate entry avoided\n",
            "Negative coordinate entry avoided\n",
            "Negative coordinate entry avoided\n",
            "Negative coordinate entry avoided\n",
            "Negative coordinate entry avoided\n",
            "Negative coordinate entry avoided\n"
          ]
        },
        {
          "output_type": "execute_result",
          "data": {
            "text/plain": [
              "388"
            ]
          },
          "metadata": {},
          "execution_count": 25
        }
      ]
    },
    {
      "cell_type": "code",
      "source": [
        "def convert_labels (path, test_bbox):\n",
        "    test_bbox['w']=test_bbox['x']+test_bbox['w']\n",
        "    test_bbox['h']=test_bbox['y']+test_bbox['h']\n",
        "    #print(test_bbox)\n",
        "    x1=test_bbox['x']\n",
        "    y1=test_bbox['y']\n",
        "    x2=test_bbox['w']\n",
        "    y2=test_bbox['h']\n",
        "    def sorting(l1, l2):\n",
        "        if 11> 12:\n",
        "            lmax, lmin = l1, l2\n",
        "            return lmax, lmin\n",
        "        else:\n",
        "            lmax, lmin = l2, l1\n",
        "            return lmax, lmin\n",
        "    img=cv2.imread(path)\n",
        "    size=img.shape\n",
        "    #print(size)\n",
        "    xmax, xmin = sorting(x1, x2)\n",
        "    ymax, ymin = sorting (y1, y2)\n",
        "    dw = 1./size[1]\n",
        "    dh = 1./size[0]\n",
        "    x = (xmin + xmax)/2.0\n",
        "    y = (ymin + ymax)/2.0\n",
        "    x = (xmin + xmax)/2.0\n",
        "    y = (ymin + ymax)/2.0\n",
        "    w = xmax-xmin\n",
        "    h = ymax-ymin\n",
        "    x = x*dw\n",
        "    w = w*dw\n",
        "    y = y*dh\n",
        "    h = h*dh\n",
        "    return (x,y,w,h)"
      ],
      "metadata": {
        "id": "pvK6dtpHThDk"
      },
      "execution_count": null,
      "outputs": []
    },
    {
      "cell_type": "code",
      "source": [
        "#Chart-Classification\n",
        "#0=dot_plot\n",
        "#1=hbar\n",
        "#2=line\n",
        "#3=vbar\n",
        "#4=legend\n",
        "\n",
        "for f in os.listdir('/content/drive/MyDrive/chart_type_extraction1/datasets1/images/val/'):\n",
        "    os.remove(os.path.join('/content/drive/chart_type_extraction1/datasets1/images/val/', f))\n",
        "for f in os.listdir('/content/drive/MyDrive/chart_type_extraction1/datasets1/labels/val/'):\n",
        "    os.remove(os.path.join('/content/drive/MyDrive/chart_type_extraction1/datasets1/labels/val/', f))\n",
        "\n",
        "for k in range(len(val_subset_annotations_list)):\n",
        "    l=0\n",
        "    m=0\n",
        "    #print(subset_annotations_list[k]['image_index'])\n",
        "    path_img='/content/drive/MyDrive/MCM-Practicum/Data/Val/png/'+str(val_subset_annotations_list[k]['image_index'])+'.png'\n",
        "    #print((path_img))\n",
        "    #Inserting bbox information of chart elements\n",
        "    for i in range(len(val_subset_annotations_list[k]['models'])):\n",
        "        l=l+len(val_subset_annotations_list[k]['models'][i]['bboxes'])\n",
        "        val_annotations_array = np.zeros((l,5), dtype=float)\n",
        "    for i in range(len(val_subset_annotations_list[k]['models'])):\n",
        "        for j in range(len(val_subset_annotations_list[k]['models'][i]['bboxes'])):\n",
        "            if (val_subset_annotations_list[k]['type'])=='dot_line':\n",
        "                val_annotations_array[m][0]=0\n",
        "            elif (val_subset_annotations_list[k]['type'])=='hbar_categorical':\n",
        "                val_annotations_array[m][0]=1\n",
        "            elif (val_subset_annotations_list[k]['type'])=='line':\n",
        "                val_annotations_array[m][0]=2\n",
        "            elif (val_subset_annotations_list[k]['type'])=='vbar_categorical':\n",
        "                val_annotations_array[m][0]=3\n",
        "            test_bbox=copy.copy(val_subset_annotations_list[k]['models'][i]['bboxes'][j])\n",
        "            test_bbox_yolo=convert_labels(path_img,test_bbox)\n",
        "            val_annotations_array[m][1]=test_bbox_yolo[0]\n",
        "            val_annotations_array[m][2]=test_bbox_yolo[1]\n",
        "            val_annotations_array[m][3]=test_bbox_yolo[2]\n",
        "            val_annotations_array[m][4]=test_bbox_yolo[3]\n",
        "            m=m+1\n",
        "    \n",
        "    legend_bbox_list=[]\n",
        "    #inserting legend bbox\n",
        "    try:\n",
        "        legend_bbox=copy.copy(val_subset_annotations_list[k]['general_figure_info']['legend']['bbox'])\n",
        "    except KeyError:\n",
        "        legend_bbox=0\n",
        "    if (legend_bbox!=0):\n",
        "        legend_bbox=convert_labels(path_img,legend_bbox)\n",
        "        legend_bbox_list.append(4)\n",
        "        for i in range(len(legend_bbox)):\n",
        "            legend_bbox_list.append(legend_bbox[i])\n",
        "        val_annotations_array=np.r_[val_annotations_array,[legend_bbox_list]]\n",
        "    \n",
        "    name=('/content/drive/MyDrive/chart_type_extraction1/datasets1/labels/val/'+str(val_subset_annotations_list[k]['image_index'])+'.txt')\n",
        "    np.savetxt(name, val_annotations_array, delimiter=\" \", fmt='%1.9f')\n",
        "    source='/content/drive/MyDrive/MCM-Practicum/Data/Val/png/'+str(val_subset_annotations_list[k]['image_index'])+'.png'\n",
        "    dest=('/content/drive/MyDrive/chart_type_extraction1/datasets1/images/val/'+str(val_subset_annotations_list[k]['image_index'])+'.png')\n",
        "    shutil.copy2(source,dest)"
      ],
      "metadata": {
        "id": "BLZSa2RYTjGo"
      },
      "execution_count": null,
      "outputs": []
    },
    {
      "cell_type": "code",
      "source": [
        "l=os.listdir(\"/content/drive/MyDrive/chart_type_extraction1/datasets1/images/val/\")\n",
        "#/content/drive/MyDrive/MCM Practicum/Data/Train/png\n",
        "#list_of_images2.sort()\n",
        "len(l)"
      ],
      "metadata": {
        "colab": {
          "base_uri": "https://localhost:8080/"
        },
        "id": "XqJLaV4wWIbJ",
        "outputId": "4ed3180a-c4e1-4368-9742-2a571a59ffef"
      },
      "execution_count": null,
      "outputs": [
        {
          "output_type": "execute_result",
          "data": {
            "text/plain": [
              "388"
            ]
          },
          "metadata": {},
          "execution_count": 28
        }
      ]
    }
  ]
}