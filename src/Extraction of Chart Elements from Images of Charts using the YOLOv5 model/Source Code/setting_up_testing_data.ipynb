{
  "nbformat": 4,
  "nbformat_minor": 0,
  "metadata": {
    "colab": {
      "name": "setting_up_testing_data.ipynb",
      "provenance": []
    },
    "kernelspec": {
      "name": "python3",
      "display_name": "Python 3"
    },
    "language_info": {
      "name": "python"
    }
  },
  "cells": [
    {
      "cell_type": "code",
      "execution_count": null,
      "metadata": {
        "id": "bHPr22YTQN5s"
      },
      "outputs": [],
      "source": [
        "path_testing=os.listdir('/content/drive/MyDrive/MCM-Practicum/Data/Test/png/')\n",
        "print(len(path_testing))\n",
        "testing_subset=[]\n",
        "for i in range (0,380):\n",
        "    temp=path_testing[random.randint(0,len(path_testing))]\n",
        "    if temp in testing_subset:\n",
        "      print('Duplicate avoided')\n",
        "    elif temp in path_testing:\n",
        "      testing_subset.append(temp)\n",
        "\n",
        "len(testing_subset)"
      ]
    },
    {
      "cell_type": "code",
      "source": [
        "for f in os.listdir('/content/drive/MyDrive/custom_object_detection1/yolov5/test/'):\n",
        "    os.remove(os.path.join('/content/drive/MyDrive/custom_object_detection1/yolov5/test/', f))\n",
        "\n",
        "for k in range(len(testing_subset)):\n",
        "  #print(k)\n",
        "    source_test=('/content/drive/MyDrive/MCM-Practicum/Data/Test/png/'+str(testing_subset[k]))\n",
        "    dest_test=('/content/drive/MyDrive/custom_object_detection1/yolov5/test/'+str(testing_subset[k]))\n",
        "    shutil.copy2(source_test,dest_test)"
      ],
      "metadata": {
        "id": "80Ea8v6UQPwZ"
      },
      "execution_count": null,
      "outputs": []
    },
    {
      "cell_type": "code",
      "source": [
        "l=os.listdir('/content/drive/MyDrive/custom_object_detection1/yolov5/test/')\n",
        "print(len(l))"
      ],
      "metadata": {
        "id": "lG0YZmIQQRBS"
      },
      "execution_count": null,
      "outputs": []
    }
  ]
}