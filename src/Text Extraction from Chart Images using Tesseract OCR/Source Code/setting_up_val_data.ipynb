{
  "nbformat": 4,
  "nbformat_minor": 0,
  "metadata": {
    "colab": {
      "name": "setting_up_val_data.ipynb",
      "provenance": [],
      "collapsed_sections": []
    },
    "kernelspec": {
      "name": "python3",
      "display_name": "Python 3"
    },
    "language_info": {
      "name": "python"
    }
  },
  "cells": [
    {
      "cell_type": "code",
      "execution_count": 7,
      "metadata": {
        "colab": {
          "base_uri": "https://localhost:8080/"
        },
        "id": "fa8TPSgcK-QL",
        "outputId": "26aa2761-01e7-49b2-94ff-59aea99d55bc"
      },
      "outputs": [
        {
          "output_type": "stream",
          "name": "stdout",
          "text": [
            "Drive already mounted at /content/drive; to attempt to forcibly remount, call drive.mount(\"/content/drive\", force_remount=True).\n"
          ]
        }
      ],
      "source": [
        "import pandas as pd\n",
        "import numpy as np\n",
        "import random\n",
        "import cv2\n",
        "import numpy as np\n",
        "import matplotlib.pyplot as plt\n",
        "import json\n",
        "from IPython.display import Image\n",
        "import shutil\n",
        "import copy\n",
        "from numpy import int32\n",
        "import os\n",
        "from numpy import float32\n",
        "import cv2\n",
        "import re\n",
        "from google.colab import drive\n",
        "drive.mount('/content/drive')"
      ]
    },
    {
      "cell_type": "code",
      "source": [
        "with open('/content/drive/MyDrive/MCM Practicum/Data/Val/annotations.json') as json_file:\n",
        "    val_full_annotations_list=json.load(json_file)\n",
        "print(len(val_full_annotations_list))\n",
        "\n",
        "val_list_of_images=os.listdir(\"/content/drive/MyDrive/MCM Practicum/Data/Val/png/png/\")\n",
        "print(len(val_list_of_images))\n",
        "\n",
        "val_annotations_list=[]\n",
        "for i in range (len(val_full_annotations_list)):\n",
        "  temp=(str(val_full_annotations_list[i]['image_index'])+'.png')\n",
        "  if temp in val_list_of_images:\n",
        "    val_annotations_list.append(val_full_annotations_list[i])\n",
        "len(val_annotations_list)\n"
      ],
      "metadata": {
        "colab": {
          "base_uri": "https://localhost:8080/"
        },
        "id": "mCvy7U-RLHgK",
        "outputId": "24a76d24-52ab-4a6e-9abc-795748e08f50"
      },
      "execution_count": 17,
      "outputs": [
        {
          "output_type": "stream",
          "name": "stdout",
          "text": [
            "33650\n",
            "7694\n"
          ]
        },
        {
          "output_type": "execute_result",
          "data": {
            "text/plain": [
              "7694"
            ]
          },
          "metadata": {},
          "execution_count": 17
        }
      ]
    },
    {
      "cell_type": "code",
      "source": [
        "val_list_of_images=os.listdir(\"/content/drive/MyDrive/MCM Practicum/Data/Val/png/png\")\n",
        "print(len(val_list_of_images))"
      ],
      "metadata": {
        "colab": {
          "base_uri": "https://localhost:8080/"
        },
        "id": "CKAbVQTi5VF7",
        "outputId": "8683ab0c-1844-4702-fdc5-3bb8e488584b"
      },
      "execution_count": 29,
      "outputs": [
        {
          "output_type": "stream",
          "name": "stdout",
          "text": [
            "7694\n"
          ]
        }
      ]
    },
    {
      "cell_type": "code",
      "source": [
        "\n",
        "#Splitting Val dataset based on chart type\n",
        "val_annotations_list_dot=[]\n",
        "val_annotations_list_hbar=[]\n",
        "val_annotations_list_line=[]\n",
        "val_annotations_list_vbar=[]\n",
        "i=0\n",
        "for i in range(len(val_annotations_list)):\n",
        "    test = val_annotations_list[i]\n",
        "    if test['type']=='dot_line':\n",
        "        val_annotations_list_dot.append(test)\n",
        "    elif test['type']=='hbar_categorical':\n",
        "        val_annotations_list_hbar.append(test)\n",
        "    elif test['type']=='line':\n",
        "        val_annotations_list_line.append(test)\n",
        "    elif test['type']=='vbar_categorical':\n",
        "        val_annotations_list_vbar.append(test)\n",
        "\n",
        "print(\"Number of Dot Plots val:\",len(val_annotations_list_dot))\n",
        "print(\"Number of Line Plots val:\",len(val_annotations_list_line))\n",
        "print(\"Number of Horizontal Bar Plots val:\",len(val_annotations_list_hbar))\n",
        "print(\"Number of Vertical Bar Plots val:\",len(val_annotations_list_vbar))"
      ],
      "metadata": {
        "colab": {
          "base_uri": "https://localhost:8080/"
        },
        "id": "GhDCxZF7LmM1",
        "outputId": "6533ca23-1d3b-4343-e8d7-facc830574c7"
      },
      "execution_count": 19,
      "outputs": [
        {
          "output_type": "stream",
          "name": "stdout",
          "text": [
            "Number of Dot Plots val: 1273\n",
            "Number of Line Plots val: 1268\n",
            "Number of Horizontal Bar Plots val: 2583\n",
            "Number of Vertical Bar Plots val: 2570\n"
          ]
        }
      ]
    },
    {
      "cell_type": "code",
      "source": [
        "\n",
        "#removing annotation entries with negative coordinate values\n",
        "val_subset=copy.copy(val_annotations_list)\n",
        "val_delete_list=[]\n",
        "for i in range(len(val_subset)):\n",
        "    temp1=val_subset[i]['general_figure_info']['title']['bbox']\n",
        "    temp4=val_subset[i]['general_figure_info']['x_axis']['label']['bbox']\n",
        "    temp5=val_subset[i]['general_figure_info']['y_axis']['label']['bbox']\n",
        "    if (((temp1['x'])<0) or ((temp1['y'])<0) or ((temp1['w'])<0) or ((temp1['h'])<0)) or (((temp4['x'])<0) or ((temp4['y'])<0) or ((temp4['w'])<0) or ((temp4['h'])<0)) or (((temp5['x'])<0) or ((temp5['y'])<0) or ((temp5['w'])<0) or ((temp5['h'])<0)):\n",
        "        if (i) not in val_delete_list:\n",
        "            val_delete_list.append(i)\n",
        "    try:\n",
        "        temp2=val_subset[i]['general_figure_info']['legend']['bbox']\n",
        "    except KeyError:\n",
        "        temp2=0\n",
        "    if (temp2!=0):\n",
        "        for k in range(len(val_subset[i]['general_figure_info']['legend']['items'])):\n",
        "            temp3=val_subset[i]['general_figure_info']['legend']['items'][k]['label']['bbox']\n",
        "            if (((temp2['x'])<0) or ((temp2['y'])<0) or ((temp2['w'])<0) or ((temp2['h'])<0)) or (((temp3['x'])<0) or ((temp3['y'])<0) or ((temp3['w'])<0) or ((temp3['h'])<0)):\n",
        "                if (i) not in val_delete_list:\n",
        "                    val_delete_list.append(i)\n",
        "print(len(val_delete_list))"
      ],
      "metadata": {
        "colab": {
          "base_uri": "https://localhost:8080/"
        },
        "id": "k6lyQZSVLqbt",
        "outputId": "380a6467-9a2a-4b86-9ff4-d720023160be"
      },
      "execution_count": 20,
      "outputs": [
        {
          "output_type": "stream",
          "name": "stdout",
          "text": [
            "786\n"
          ]
        }
      ]
    },
    {
      "cell_type": "code",
      "source": [
        "val_subset_annotations_list=[]\n",
        "\n",
        "for i in range (0,100):\n",
        "    temp=val_annotations_list_dot[random.randint(0,len(val_annotations_list_dot)-1)]\n",
        "    if temp in val_subset_annotations_list:\n",
        "        print('Duplicate avoided')\n",
        "    elif i in val_delete_list:\n",
        "        print ('Negative coordinate entry avoided')\n",
        "    else:\n",
        "        val_subset_annotations_list.append(temp)\n",
        "\n",
        "for i in range (0,100):\n",
        "    temp=val_annotations_list_line[random.randint(0,len(val_annotations_list_line)-1)]\n",
        "    if temp in val_subset_annotations_list:\n",
        "        print('duplicate avoided')\n",
        "    elif i in val_delete_list:\n",
        "        print ('Negative coordinate entry avoided')\n",
        "    else:\n",
        "        val_subset_annotations_list.append(temp)\n",
        "\n",
        "for i in range (0,100):\n",
        "    temp=val_annotations_list_hbar[random.randint(0,len(val_annotations_list_hbar)-1)]\n",
        "    if temp in val_subset_annotations_list:\n",
        "        print('duplicate avoided')\n",
        "    elif i in val_delete_list:\n",
        "        print ('Negative coordinate entry avoided')\n",
        "    else:\n",
        "        val_subset_annotations_list.append(temp)\n",
        "\n",
        "for i in range (0,100):\n",
        "    temp=copy.copy(val_annotations_list_vbar[random.randint(0,len(val_annotations_list_vbar)-1)])\n",
        "    if temp in val_subset_annotations_list:\n",
        "        print('duplicate avoided')\n",
        "    elif i in val_delete_list:\n",
        "        print ('Negative coordinate entry avoided')\n",
        "    else:\n",
        "        val_subset_annotations_list.append(temp)\n",
        "\n",
        "print(len(val_subset_annotations_list))"
      ],
      "metadata": {
        "colab": {
          "base_uri": "https://localhost:8080/"
        },
        "id": "05wWXE4BLwMy",
        "outputId": "8169a562-c820-4c15-9515-0bef1205bb1d"
      },
      "execution_count": 21,
      "outputs": [
        {
          "output_type": "stream",
          "name": "stdout",
          "text": [
            "Negative coordinate entry avoided\n",
            "Duplicate avoided\n",
            "Duplicate avoided\n",
            "Duplicate avoided\n",
            "Duplicate avoided\n",
            "Duplicate avoided\n",
            "Duplicate avoided\n",
            "Negative coordinate entry avoided\n",
            "duplicate avoided\n",
            "Negative coordinate entry avoided\n",
            "Negative coordinate entry avoided\n",
            "389\n"
          ]
        }
      ]
    },
    {
      "cell_type": "code",
      "source": [
        "def convert_labels (path, test_bbox):\n",
        "    test_bbox['w']=test_bbox['x']+test_bbox['w']\n",
        "    test_bbox['h']=test_bbox['y']+test_bbox['h']\n",
        "    #print(test_bbox)\n",
        "    x1=test_bbox['x']\n",
        "    y1=test_bbox['y']\n",
        "    x2=test_bbox['w']\n",
        "    y2=test_bbox['h']\n",
        "    def sorting(l1, l2):\n",
        "        if 11> 12:\n",
        "            lmax, lmin = l1, l2\n",
        "            return lmax, lmin\n",
        "        else:\n",
        "            lmax, lmin = l2, l1\n",
        "            return lmax, lmin\n",
        "    img=cv2.imread(path)\n",
        "    size=img.shape\n",
        "    #print(size)\n",
        "    xmax, xmin = sorting(x1, x2)\n",
        "    ymax, ymin = sorting (y1, y2)\n",
        "    dw = 1./size[1]\n",
        "    dh = 1./size[0]\n",
        "    x = (xmin + xmax)/2.0\n",
        "    y = (ymin + ymax)/2.0\n",
        "    x = (xmin + xmax)/2.0\n",
        "    y = (ymin + ymax)/2.0\n",
        "    w = xmax-xmin\n",
        "    h = ymax-ymin\n",
        "    x = x*dw\n",
        "    w = w*dw\n",
        "    y = y*dh\n",
        "    h = h*dh\n",
        "    return (x,y,w,h)"
      ],
      "metadata": {
        "id": "mv-sUzEMMrcn"
      },
      "execution_count": 22,
      "outputs": []
    },
    {
      "cell_type": "code",
      "source": [
        "#YOLO_classes\n",
        "#0=chart_title\n",
        "#1=x_axis_label\n",
        "#2=y_axis_label\n",
        "#3=legend_elements\n",
        "\n",
        "for f in os.listdir('/content/drive/MyDrive/text_extraction_dataset/images/val/'):\n",
        "    os.remove(os.path.join('/content/drive/MyDrive/text_extraction_dataset/images/val/', f))\n",
        "for f in os.listdir('/content/drive/MyDrive/text_extraction_dataset/labels/val/'):\n",
        "    os.remove(os.path.join('/content/drive/MyDrive/text_extraction_dataset/labels/val/', f))\n",
        "\n",
        "for k in range(len(val_subset_annotations_list)):\n",
        "    path='/content/drive/MyDrive/MCM Practicum/Data/Val/png/png/'+str(val_subset_annotations_list[k]['image_index'])+'.png'\n",
        "    m=0\n",
        "    annotations_array=np.zeros((0,5), dtype=float)\n",
        "    legend_bbox_list=[]\n",
        "    try:\n",
        "        legend_bbox=copy.copy(val_subset_annotations_list[k]['general_figure_info']['legend'])\n",
        "        for i in range(len(val_subset_annotations_list[k]['general_figure_info']['legend']['items'])):\n",
        "            l=len(val_subset_annotations_list[k]['general_figure_info']['legend']['items'])\n",
        "            annotations_array = np.zeros((l,5), dtype=float)\n",
        "        for i in range(len(legend_bbox['items'])):\n",
        "            test_bbox=copy.copy(legend_bbox['items'][i]['label']['bbox'])\n",
        "            annotations_array[m][0]=3\n",
        "            test_bbox_yolo=convert_labels(path,test_bbox)\n",
        "            annotations_array[m][1]=test_bbox_yolo[0]\n",
        "            annotations_array[m][2]=test_bbox_yolo[1]\n",
        "            annotations_array[m][3]=test_bbox_yolo[2]\n",
        "            annotations_array[m][4]=test_bbox_yolo[3]\n",
        "            m=m+1\n",
        "    except KeyError:\n",
        "        legend_bbox=0\n",
        "\n",
        "    title_bbox_list=[]\n",
        "    xaxis_bbox_list=[]\n",
        "    yaxis_bbox_list=[]\n",
        "\n",
        "    #inserting bboxes of title\n",
        "    title_bbox=copy.copy(val_subset_annotations_list[k]['general_figure_info']['title']['bbox'])\n",
        "    title_bbox=convert_labels(path,title_bbox)\n",
        "    title_bbox_list.append(0)\n",
        "    for i in range(len(title_bbox)):\n",
        "        title_bbox_list.append(title_bbox[i])\n",
        "    annotations_array=np.r_[annotations_array,[title_bbox_list]]\n",
        "\n",
        "    #inserting bboxes of xaxis\n",
        "    xaxis_bbox=copy.copy(val_subset_annotations_list[k]['general_figure_info']['x_axis']['label']['bbox'])\n",
        "    xaxis_bbox=convert_labels(path,xaxis_bbox)\n",
        "    xaxis_bbox_list.append(1)\n",
        "    for i in range(len(xaxis_bbox)):\n",
        "        xaxis_bbox_list.append(xaxis_bbox[i])\n",
        "    annotations_array=np.r_[annotations_array,[xaxis_bbox_list]]\n",
        "\n",
        "    #inserting bboxes of yaxis\n",
        "    yaxis_bbox=copy.copy(val_subset_annotations_list[k]['general_figure_info']['y_axis']['label']['bbox'])\n",
        "    yaxis_bbox=convert_labels(path,yaxis_bbox)\n",
        "    yaxis_bbox_list.append(2)\n",
        "    for i in range(len(yaxis_bbox)):\n",
        "        yaxis_bbox_list.append(yaxis_bbox[i])\n",
        "    annotations_array=np.r_[annotations_array,[yaxis_bbox_list]]\n",
        "\n",
        "    name=('/content/drive/MyDrive/text_extraction_dataset/labels/val/'+str(val_subset_annotations_list[k]['image_index'])+'.txt')\n",
        "    np.savetxt(name, annotations_array, delimiter=\" \", fmt='%1.9f')\n",
        "    source='/content/drive/MyDrive/MCM Practicum/Data/Val/png/png/'+str(val_subset_annotations_list[k]['image_index'])+'.png'\n",
        "    dest=('/content/drive/MyDrive/text_extraction_dataset/images/val/'+str(val_subset_annotations_list[k]['image_index'])+'.png')\n",
        "    shutil.copy2(source,dest)"
      ],
      "metadata": {
        "id": "WP9AcKThMw1S"
      },
      "execution_count": 28,
      "outputs": []
    },
    {
      "cell_type": "code",
      "source": [
        "test_text=os.listdir('/content/drive/MyDrive/text_extraction_dataset/labels/val/')\n",
        "print(len(test_text))"
      ],
      "metadata": {
        "colab": {
          "base_uri": "https://localhost:8080/"
        },
        "id": "cvroqiexBQ5V",
        "outputId": "38eb01c0-a7d7-4eae-f720-13b0e4f1c55d"
      },
      "execution_count": 31,
      "outputs": [
        {
          "output_type": "stream",
          "name": "stdout",
          "text": [
            "389\n"
          ]
        }
      ]
    }
  ]
}