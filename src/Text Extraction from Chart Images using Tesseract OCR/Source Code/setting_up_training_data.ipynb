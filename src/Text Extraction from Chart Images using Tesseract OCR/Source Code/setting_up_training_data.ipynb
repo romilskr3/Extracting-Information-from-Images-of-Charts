{
  "cells": [
    {
      "cell_type": "markdown",
      "metadata": {
        "id": "rxWhFlds9FNm"
      },
      "source": [
        "## Importing Libraries"
      ]
    },
    {
      "cell_type": "code",
      "execution_count": 2,
      "metadata": {
        "colab": {
          "base_uri": "https://localhost:8080/"
        },
        "id": "TznoVRps9FNr",
        "outputId": "11895d1e-1e68-43f3-b613-b57facfbbfb5"
      },
      "outputs": [
        {
          "output_type": "stream",
          "name": "stdout",
          "text": [
            "Drive already mounted at /content/drive; to attempt to forcibly remount, call drive.mount(\"/content/drive\", force_remount=True).\n"
          ]
        }
      ],
      "source": [
        "import pandas as pd\n",
        "import numpy as np\n",
        "import random\n",
        "import cv2\n",
        "import numpy as np\n",
        "import matplotlib.pyplot as plt\n",
        "import json\n",
        "from IPython.display import Image\n",
        "import shutil\n",
        "import copy\n",
        "from numpy import int32\n",
        "import os\n",
        "from numpy import float32\n",
        "import cv2\n",
        "import re\n",
        "from google.colab import drive\n",
        "drive.mount('/content/drive')"
      ]
    },
    {
      "cell_type": "markdown",
      "metadata": {
        "id": "oQqiu2xA9FNt"
      },
      "source": [
        "## Loading Data"
      ]
    },
    {
      "cell_type": "code",
      "execution_count": 3,
      "metadata": {
        "id": "bcSppkyr9FNu",
        "outputId": "b925b0dc-d3ca-484a-c1bf-b2c16b09bf7a",
        "colab": {
          "base_uri": "https://localhost:8080/"
        }
      },
      "outputs": [
        {
          "output_type": "stream",
          "name": "stdout",
          "text": [
            "157070\n"
          ]
        },
        {
          "output_type": "execute_result",
          "data": {
            "text/plain": [
              "32658"
            ]
          },
          "metadata": {},
          "execution_count": 3
        }
      ],
      "source": [
        "with open('/content/drive/MyDrive/MCM Practicum/Data/Train/annotations.json') as json_file:\n",
        "    train_full_annotations_list=json.load(json_file)\n",
        "print(len(train_full_annotations_list))\n",
        "\n",
        "train_list_of_images=os.listdir(\"/content/drive/MyDrive/MCM Practicum/Data/Train/png/\")\n",
        "len(train_list_of_images)\n",
        "\n",
        "train_annotations_list=[]\n",
        "for i in range (len(train_full_annotations_list)):\n",
        "  temp=(str(train_full_annotations_list[i]['image_index'])+'.png')\n",
        "  if temp in train_list_of_images:\n",
        "    train_annotations_list.append(train_full_annotations_list[i])\n",
        "len(train_annotations_list)"
      ]
    },
    {
      "cell_type": "code",
      "execution_count": 4,
      "metadata": {
        "id": "GW3M79Yk9FNw",
        "outputId": "b4b3eea8-e7f1-4d7e-bc0d-b7cfa8c62e24",
        "colab": {
          "base_uri": "https://localhost:8080/"
        }
      },
      "outputs": [
        {
          "output_type": "stream",
          "name": "stdout",
          "text": [
            "Number of Dot Plots train: 5421\n",
            "Number of Line Plots train: 5377\n",
            "Number of Horizontal Bar Plots train: 10948\n",
            "Number of Vertical Bar Plots train: 10912\n"
          ]
        }
      ],
      "source": [
        "#Splitting training dataset based on chart type\n",
        "train_annotations_list_dot=[]\n",
        "train_annotations_list_hbar=[]\n",
        "train_annotations_list_line=[]\n",
        "train_annotations_list_vbar=[]\n",
        "i=0\n",
        "for i in range(len(train_annotations_list)):\n",
        "    test = train_annotations_list[i]\n",
        "    if test['type']=='dot_line':\n",
        "        train_annotations_list_dot.append(test)\n",
        "    elif test['type']=='hbar_categorical':\n",
        "        train_annotations_list_hbar.append(test)\n",
        "    elif test['type']=='line':\n",
        "        train_annotations_list_line.append(test)\n",
        "    elif test['type']=='vbar_categorical':\n",
        "        train_annotations_list_vbar.append(test)\n",
        "\n",
        "print(\"Number of Dot Plots train:\",len(train_annotations_list_dot))\n",
        "print(\"Number of Line Plots train:\",len(train_annotations_list_line))\n",
        "print(\"Number of Horizontal Bar Plots train:\",len(train_annotations_list_hbar))\n",
        "print(\"Number of Vertical Bar Plots train:\",len(train_annotations_list_vbar))\n"
      ]
    },
    {
      "cell_type": "code",
      "execution_count": 5,
      "metadata": {
        "id": "9qq2wQhk9FNy",
        "outputId": "b2244e8f-5a77-4b41-9098-212392ad2b55",
        "colab": {
          "base_uri": "https://localhost:8080/"
        }
      },
      "outputs": [
        {
          "output_type": "stream",
          "name": "stdout",
          "text": [
            "3232\n"
          ]
        }
      ],
      "source": [
        "#removing annotation entries with negative coordinate values\n",
        "train_subset=copy.copy(train_annotations_list)\n",
        "train_delete_list=[]\n",
        "for i in range(len(train_subset)):\n",
        "    temp1=train_subset[i]['general_figure_info']['title']['bbox']\n",
        "    temp4=train_subset[i]['general_figure_info']['x_axis']['label']['bbox']\n",
        "    temp5=train_subset[i]['general_figure_info']['y_axis']['label']['bbox']\n",
        "    if (((temp1['x'])<0) or ((temp1['y'])<0) or ((temp1['w'])<0) or ((temp1['h'])<0)) or (((temp4['x'])<0) or ((temp4['y'])<0) or ((temp4['w'])<0) or ((temp4['h'])<0)) or (((temp5['x'])<0) or ((temp5['y'])<0) or ((temp5['w'])<0) or ((temp5['h'])<0)):\n",
        "        if (i) not in train_delete_list:\n",
        "            train_delete_list.append(i)\n",
        "    try:\n",
        "        temp2=train_subset[i]['general_figure_info']['legend']['bbox']\n",
        "    except KeyError:\n",
        "        temp2=0\n",
        "    if (temp2!=0):\n",
        "        for k in range(len(train_subset[i]['general_figure_info']['legend']['items'])):\n",
        "            temp3=train_subset[i]['general_figure_info']['legend']['items'][k]['label']['bbox']\n",
        "            if (((temp2['x'])<0) or ((temp2['y'])<0) or ((temp2['w'])<0) or ((temp2['h'])<0)) or (((temp3['x'])<0) or ((temp3['y'])<0) or ((temp3['w'])<0) or ((temp3['h'])<0)):\n",
        "                if (i) not in train_delete_list:\n",
        "                    train_delete_list.append(i)\n",
        "print(len(train_delete_list))\n"
      ]
    },
    {
      "cell_type": "code",
      "execution_count": 19,
      "metadata": {
        "id": "B5N1rEOn9FN0",
        "outputId": "4d850c54-aac8-4e8d-8493-616123539d9b",
        "colab": {
          "base_uri": "https://localhost:8080/"
        }
      },
      "outputs": [
        {
          "output_type": "stream",
          "name": "stdout",
          "text": [
            "2533\n"
          ]
        }
      ],
      "source": [
        "train_subset_annotations_list=[]\n",
        "dupicate=[]\n",
        "negative=[]\n",
        "\n",
        "for i in range (0,675):\n",
        "    temp=train_annotations_list_dot[random.randint(0,len(train_annotations_list_dot)-1)]\n",
        "    if temp in train_subset_annotations_list:\n",
        "        dupicate.append(temp)\n",
        "    elif i in train_delete_list:\n",
        "        negative.append(temp)\n",
        "    else:\n",
        "        train_subset_annotations_list.append(temp)\n",
        "\n",
        "for i in range (0,675):\n",
        "    temp=train_annotations_list_line[random.randint(0,len(train_annotations_list_line)-1)]\n",
        "    if temp in train_subset_annotations_list:\n",
        "        dupicate.append(temp)\n",
        "    elif i in train_delete_list:\n",
        "        negative.append(temp)\n",
        "    else:\n",
        "        train_subset_annotations_list.append(temp)\n",
        "\n",
        "for i in range (0,675):\n",
        "    temp=train_annotations_list_hbar[random.randint(0,len(train_annotations_list_hbar)-1)]\n",
        "    if temp in train_subset_annotations_list:\n",
        "        dupicate.append(temp)\n",
        "    elif i in train_delete_list:\n",
        "        negative.append(temp)\n",
        "    else:\n",
        "        train_subset_annotations_list.append(temp)\n",
        "\n",
        "for i in range (0,675):\n",
        "    temp=copy.copy(train_annotations_list_vbar[random.randint(0,len(train_annotations_list_vbar)-1)])\n",
        "    if temp in train_subset_annotations_list:\n",
        "        dupicate.append(temp)\n",
        "    elif i in train_delete_list:\n",
        "        negative.append(temp)\n",
        "    else:\n",
        "        train_subset_annotations_list.append(temp)\n",
        "\n",
        "print(len(train_subset_annotations_list))"
      ]
    },
    {
      "cell_type": "markdown",
      "metadata": {
        "id": "Dwdfc2-V9FN2"
      },
      "source": [
        "## Extracting Training Annotations"
      ]
    },
    {
      "cell_type": "code",
      "execution_count": 20,
      "metadata": {
        "id": "S8PIo0Wo9FN3"
      },
      "outputs": [],
      "source": [
        "def convert_labels (path, test_bbox):\n",
        "    test_bbox['w']=test_bbox['x']+test_bbox['w']\n",
        "    test_bbox['h']=test_bbox['y']+test_bbox['h']\n",
        "    #print(test_bbox)\n",
        "    x1=test_bbox['x']\n",
        "    y1=test_bbox['y']\n",
        "    x2=test_bbox['w']\n",
        "    y2=test_bbox['h']\n",
        "    def sorting(l1, l2):\n",
        "        if 11> 12:\n",
        "            lmax, lmin = l1, l2\n",
        "            return lmax, lmin\n",
        "        else:\n",
        "            lmax, lmin = l2, l1\n",
        "            return lmax, lmin\n",
        "    img=cv2.imread(path)\n",
        "    size=img.shape\n",
        "    #print(size)\n",
        "    xmax, xmin = sorting(x1, x2)\n",
        "    ymax, ymin = sorting (y1, y2)\n",
        "    dw = 1./size[1]\n",
        "    dh = 1./size[0]\n",
        "    x = (xmin + xmax)/2.0\n",
        "    y = (ymin + ymax)/2.0\n",
        "    x = (xmin + xmax)/2.0\n",
        "    y = (ymin + ymax)/2.0\n",
        "    w = xmax-xmin\n",
        "    h = ymax-ymin\n",
        "    x = x*dw\n",
        "    w = w*dw\n",
        "    y = y*dh\n",
        "    h = h*dh\n",
        "    return (x,y,w,h)"
      ]
    },
    {
      "cell_type": "code",
      "execution_count": 21,
      "metadata": {
        "id": "I1FlVOs49FN4"
      },
      "outputs": [],
      "source": [
        "#YOLO_classes\n",
        "#0=chart_title\n",
        "#1=x_axis_label\n",
        "#2=y_axis_label\n",
        "#3=legend_elements\n",
        "\n",
        "for f in os.listdir('/content/drive/MyDrive/text_extraction_dataset/images/train/'):\n",
        "    os.remove(os.path.join('/content/drive/MyDrive/text_extraction_dataset/images/train/', f))\n",
        "for f in os.listdir('/content/drive/MyDrive/text_extraction_dataset/labels/train/'):\n",
        "    os.remove(os.path.join('/content/drive/MyDrive/text_extraction_dataset/labels/train/', f))\n",
        "\n",
        "for k in range(len(train_subset_annotations_list)):\n",
        "    path='/content/drive/MyDrive/MCM Practicum/Data/Train/png/'+str(train_subset_annotations_list[k]['image_index'])+'.png'\n",
        "    m=0\n",
        "    annotations_array=np.zeros((0,5), dtype=float)\n",
        "    legend_bbox_list=[]\n",
        "    try:\n",
        "        legend_bbox=copy.copy(train_subset_annotations_list[k]['general_figure_info']['legend'])\n",
        "        for i in range(len(train_subset_annotations_list[k]['general_figure_info']['legend']['items'])):\n",
        "            l=len(train_subset_annotations_list[k]['general_figure_info']['legend']['items'])\n",
        "            annotations_array = np.zeros((l,5), dtype=float)\n",
        "        for i in range(len(legend_bbox['items'])):\n",
        "            test_bbox=copy.copy(legend_bbox['items'][i]['label']['bbox'])\n",
        "            annotations_array[m][0]=3\n",
        "            test_bbox_yolo=convert_labels(path,test_bbox)\n",
        "            annotations_array[m][1]=test_bbox_yolo[0]\n",
        "            annotations_array[m][2]=test_bbox_yolo[1]\n",
        "            annotations_array[m][3]=test_bbox_yolo[2]\n",
        "            annotations_array[m][4]=test_bbox_yolo[3]\n",
        "            m=m+1\n",
        "    except KeyError:\n",
        "        legend_bbox=0\n",
        "\n",
        "    title_bbox_list=[]\n",
        "    xaxis_bbox_list=[]\n",
        "    yaxis_bbox_list=[]\n",
        "\n",
        "    #inserting bboxes of title\n",
        "    title_bbox=copy.copy(train_subset_annotations_list[k]['general_figure_info']['title']['bbox'])\n",
        "    title_bbox=convert_labels(path,title_bbox)\n",
        "    title_bbox_list.append(0)\n",
        "    for i in range(len(title_bbox)):\n",
        "        title_bbox_list.append(title_bbox[i])\n",
        "    annotations_array=np.r_[annotations_array,[title_bbox_list]]\n",
        "\n",
        "    #inserting bboxes of xaxis\n",
        "    xaxis_bbox=copy.copy(train_subset_annotations_list[k]['general_figure_info']['x_axis']['label']['bbox'])\n",
        "    xaxis_bbox=convert_labels(path,xaxis_bbox)\n",
        "    xaxis_bbox_list.append(1)\n",
        "    for i in range(len(xaxis_bbox)):\n",
        "        xaxis_bbox_list.append(xaxis_bbox[i])\n",
        "    annotations_array=np.r_[annotations_array,[xaxis_bbox_list]]\n",
        "\n",
        "    #inserting bboxes of yaxis\n",
        "    yaxis_bbox=copy.copy(train_subset_annotations_list[k]['general_figure_info']['y_axis']['label']['bbox'])\n",
        "    yaxis_bbox=convert_labels(path,yaxis_bbox)\n",
        "    yaxis_bbox_list.append(2)\n",
        "    for i in range(len(yaxis_bbox)):\n",
        "        yaxis_bbox_list.append(yaxis_bbox[i])\n",
        "    annotations_array=np.r_[annotations_array,[yaxis_bbox_list]]\n",
        "\n",
        "    name=('/content/drive/MyDrive/text_extraction_dataset/labels/train/'+str(train_subset_annotations_list[k]['image_index'])+'.txt')\n",
        "    np.savetxt(name, annotations_array, delimiter=\" \", fmt='%1.9f')\n",
        "    source='/content/drive/MyDrive/MCM Practicum/Data/Train/png/'+str(train_subset_annotations_list[k]['image_index'])+'.png'\n",
        "    dest=('/content/drive/MyDrive/text_extraction_dataset/images/train/'+str(train_subset_annotations_list[k]['image_index'])+'.png')\n",
        "    shutil.copy2(source,dest)\n"
      ]
    }
  ],
  "metadata": {
    "kernelspec": {
      "display_name": "Python 3.9.9 64-bit (windows store)",
      "language": "python",
      "name": "python3"
    },
    "language_info": {
      "codemirror_mode": {
        "name": "ipython",
        "version": 3
      },
      "file_extension": ".py",
      "mimetype": "text/x-python",
      "name": "python",
      "nbconvert_exporter": "python",
      "pygments_lexer": "ipython3",
      "version": "3.9.9"
    },
    "orig_nbformat": 4,
    "vscode": {
      "interpreter": {
        "hash": "b2797ab3a093c40220c2e0db994b97b8d5b18f918a2f0cb1fa77607678fe9d52"
      }
    },
    "colab": {
      "name": "setting_up_training_data.ipynb",
      "provenance": []
    },
    "accelerator": "TPU",
    "gpuClass": "standard"
  },
  "nbformat": 4,
  "nbformat_minor": 0
}