{
  "nbformat": 4,
  "nbformat_minor": 0,
  "metadata": {
    "colab": {
      "name": "setting_up_testing_data.ipynb",
      "provenance": []
    },
    "kernelspec": {
      "name": "python3",
      "display_name": "Python 3"
    },
    "language_info": {
      "name": "python"
    }
  },
  "cells": [
    {
      "cell_type": "code",
      "source": [
        "from google.colab import drive\n",
        "drive.mount('/content/drive')\n",
        "import os\n",
        "import random\n",
        "import shutil"
      ],
      "metadata": {
        "colab": {
          "base_uri": "https://localhost:8080/"
        },
        "id": "1tXHWsJKRcQj",
        "outputId": "3404467d-bd07-421d-a956-15ea23584213"
      },
      "execution_count": 2,
      "outputs": [
        {
          "output_type": "stream",
          "name": "stdout",
          "text": [
            "Drive already mounted at /content/drive; to attempt to forcibly remount, call drive.mount(\"/content/drive\", force_remount=True).\n"
          ]
        }
      ]
    },
    {
      "cell_type": "code",
      "execution_count": 5,
      "metadata": {
        "id": "bHPr22YTQN5s",
        "colab": {
          "base_uri": "https://localhost:8080/"
        },
        "outputId": "1aff734c-62c9-49af-e8f3-1705cd254e39"
      },
      "outputs": [
        {
          "output_type": "stream",
          "name": "stdout",
          "text": [
            "33657\n",
            "Duplicate avoided\n"
          ]
        },
        {
          "output_type": "execute_result",
          "data": {
            "text/plain": [
              "379"
            ]
          },
          "metadata": {},
          "execution_count": 5
        }
      ],
      "source": [
        "path_testing=os.listdir('/content/drive/MyDrive/MCM Practicum/Data/Test/png/png/')\n",
        "print(len(path_testing))\n",
        "testing_subset=[]\n",
        "for i in range (0,380):\n",
        "    temp=path_testing[random.randint(0,len(path_testing))]\n",
        "    if temp in testing_subset:\n",
        "      print('Duplicate avoided')\n",
        "    elif temp in path_testing:\n",
        "      testing_subset.append(temp)\n",
        "\n",
        "len(testing_subset)"
      ]
    },
    {
      "cell_type": "code",
      "source": [
        "for f in os.listdir('/content/drive/MyDrive/text_extraction_dataset/yolov5/test/'):\n",
        "    os.remove(os.path.join('/content/drive/MyDrive/text_extraction_dataset/yolov5/test/', f))\n",
        "\n",
        "for k in range(len(testing_subset)):\n",
        "  #print(k)\n",
        "    source_test=('/content/drive/MyDrive/MCM Practicum/Data/Test/png/png/'+str(testing_subset[k]))\n",
        "    dest_test=('/content/drive/MyDrive/text_extraction_dataset/yolov5/test/'+str(testing_subset[k]))\n",
        "    shutil.copy2(source_test,dest_test)"
      ],
      "metadata": {
        "id": "80Ea8v6UQPwZ"
      },
      "execution_count": 7,
      "outputs": []
    },
    {
      "cell_type": "code",
      "source": [
        "l=os.listdir('/content/drive/MyDrive/text_extraction_dataset/yolov5/test/')\n",
        "print(len(l))"
      ],
      "metadata": {
        "id": "lG0YZmIQQRBS",
        "colab": {
          "base_uri": "https://localhost:8080/"
        },
        "outputId": "ca36b9a3-8f5d-4a68-d605-1c2230e9222b"
      },
      "execution_count": 8,
      "outputs": [
        {
          "output_type": "stream",
          "name": "stdout",
          "text": [
            "379\n"
          ]
        }
      ]
    }
  ]
}